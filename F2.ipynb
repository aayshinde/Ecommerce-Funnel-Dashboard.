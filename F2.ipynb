{
 "cells": [
  {
   "cell_type": "code",
   "execution_count": 1,
   "metadata": {},
   "outputs": [
    {
     "name": "stdout",
     "output_type": "stream",
     "text": [
      "Requirement already satisfied: pandas in /Library/Frameworks/Python.framework/Versions/3.12/lib/python3.12/site-packages (2.2.3)\n",
      "Requirement already satisfied: numpy in /Library/Frameworks/Python.framework/Versions/3.12/lib/python3.12/site-packages (2.2.2)\n",
      "Requirement already satisfied: matplotlib in /Library/Frameworks/Python.framework/Versions/3.12/lib/python3.12/site-packages (3.10.0)\n",
      "Requirement already satisfied: seaborn in /Library/Frameworks/Python.framework/Versions/3.12/lib/python3.12/site-packages (0.13.2)\n",
      "Requirement already satisfied: plotly in /Library/Frameworks/Python.framework/Versions/3.12/lib/python3.12/site-packages (6.0.1)\n",
      "Requirement already satisfied: scikit-learn in /Library/Frameworks/Python.framework/Versions/3.12/lib/python3.12/site-packages (1.6.1)\n",
      "Requirement already satisfied: xgboost in /Library/Frameworks/Python.framework/Versions/3.12/lib/python3.12/site-packages (2.1.4)\n",
      "Requirement already satisfied: streamlit in /Library/Frameworks/Python.framework/Versions/3.12/lib/python3.12/site-packages (1.46.1)\n",
      "Requirement already satisfied: python-dateutil>=2.8.2 in /Users/ayushshinde/Library/Python/3.12/lib/python/site-packages (from pandas) (2.9.0.post0)\n",
      "Requirement already satisfied: pytz>=2020.1 in /Library/Frameworks/Python.framework/Versions/3.12/lib/python3.12/site-packages (from pandas) (2025.1)\n",
      "Requirement already satisfied: tzdata>=2022.7 in /Library/Frameworks/Python.framework/Versions/3.12/lib/python3.12/site-packages (from pandas) (2025.1)\n",
      "Requirement already satisfied: contourpy>=1.0.1 in /Library/Frameworks/Python.framework/Versions/3.12/lib/python3.12/site-packages (from matplotlib) (1.3.1)\n",
      "Requirement already satisfied: cycler>=0.10 in /Library/Frameworks/Python.framework/Versions/3.12/lib/python3.12/site-packages (from matplotlib) (0.12.1)\n",
      "Requirement already satisfied: fonttools>=4.22.0 in /Library/Frameworks/Python.framework/Versions/3.12/lib/python3.12/site-packages (from matplotlib) (4.55.8)\n",
      "Requirement already satisfied: kiwisolver>=1.3.1 in /Library/Frameworks/Python.framework/Versions/3.12/lib/python3.12/site-packages (from matplotlib) (1.4.8)\n",
      "Requirement already satisfied: packaging>=20.0 in /Users/ayushshinde/Library/Python/3.12/lib/python/site-packages (from matplotlib) (24.2)\n",
      "Requirement already satisfied: pillow>=8 in /Library/Frameworks/Python.framework/Versions/3.12/lib/python3.12/site-packages (from matplotlib) (11.1.0)\n",
      "Requirement already satisfied: pyparsing>=2.3.1 in /Library/Frameworks/Python.framework/Versions/3.12/lib/python3.12/site-packages (from matplotlib) (3.2.1)\n",
      "Requirement already satisfied: narwhals>=1.15.1 in /Library/Frameworks/Python.framework/Versions/3.12/lib/python3.12/site-packages (from plotly) (1.32.0)\n",
      "Requirement already satisfied: scipy>=1.6.0 in /Library/Frameworks/Python.framework/Versions/3.12/lib/python3.12/site-packages (from scikit-learn) (1.15.1)\n",
      "Requirement already satisfied: joblib>=1.2.0 in /Library/Frameworks/Python.framework/Versions/3.12/lib/python3.12/site-packages (from scikit-learn) (1.4.2)\n",
      "Requirement already satisfied: threadpoolctl>=3.1.0 in /Library/Frameworks/Python.framework/Versions/3.12/lib/python3.12/site-packages (from scikit-learn) (3.5.0)\n",
      "Requirement already satisfied: altair<6,>=4.0 in /Library/Frameworks/Python.framework/Versions/3.12/lib/python3.12/site-packages (from streamlit) (5.5.0)\n",
      "Requirement already satisfied: blinker<2,>=1.5.0 in /Library/Frameworks/Python.framework/Versions/3.12/lib/python3.12/site-packages (from streamlit) (1.9.0)\n",
      "Requirement already satisfied: cachetools<7,>=4.0 in /Library/Frameworks/Python.framework/Versions/3.12/lib/python3.12/site-packages (from streamlit) (6.1.0)\n",
      "Requirement already satisfied: click<9,>=7.0 in /Library/Frameworks/Python.framework/Versions/3.12/lib/python3.12/site-packages (from streamlit) (8.2.1)\n",
      "Requirement already satisfied: protobuf<7,>=3.20 in /Library/Frameworks/Python.framework/Versions/3.12/lib/python3.12/site-packages (from streamlit) (6.31.1)\n",
      "Requirement already satisfied: pyarrow>=7.0 in /Library/Frameworks/Python.framework/Versions/3.12/lib/python3.12/site-packages (from streamlit) (20.0.0)\n",
      "Requirement already satisfied: requests<3,>=2.27 in /Library/Frameworks/Python.framework/Versions/3.12/lib/python3.12/site-packages (from streamlit) (2.32.3)\n",
      "Requirement already satisfied: tenacity<10,>=8.1.0 in /Library/Frameworks/Python.framework/Versions/3.12/lib/python3.12/site-packages (from streamlit) (9.1.2)\n",
      "Requirement already satisfied: toml<2,>=0.10.1 in /Library/Frameworks/Python.framework/Versions/3.12/lib/python3.12/site-packages (from streamlit) (0.10.2)\n",
      "Requirement already satisfied: typing-extensions<5,>=4.4.0 in /Library/Frameworks/Python.framework/Versions/3.12/lib/python3.12/site-packages (from streamlit) (4.13.0)\n",
      "Requirement already satisfied: gitpython!=3.1.19,<4,>=3.0.7 in /Library/Frameworks/Python.framework/Versions/3.12/lib/python3.12/site-packages (from streamlit) (3.1.44)\n",
      "Requirement already satisfied: pydeck<1,>=0.8.0b4 in /Library/Frameworks/Python.framework/Versions/3.12/lib/python3.12/site-packages (from streamlit) (0.9.1)\n",
      "Requirement already satisfied: tornado!=6.5.0,<7,>=6.0.3 in /Users/ayushshinde/Library/Python/3.12/lib/python/site-packages (from streamlit) (6.4.2)\n",
      "Requirement already satisfied: jinja2 in /Library/Frameworks/Python.framework/Versions/3.12/lib/python3.12/site-packages (from altair<6,>=4.0->streamlit) (3.1.6)\n",
      "Requirement already satisfied: jsonschema>=3.0 in /Library/Frameworks/Python.framework/Versions/3.12/lib/python3.12/site-packages (from altair<6,>=4.0->streamlit) (4.23.0)\n",
      "Requirement already satisfied: gitdb<5,>=4.0.1 in /Library/Frameworks/Python.framework/Versions/3.12/lib/python3.12/site-packages (from gitpython!=3.1.19,<4,>=3.0.7->streamlit) (4.0.12)\n",
      "Requirement already satisfied: six>=1.5 in /Users/ayushshinde/Library/Python/3.12/lib/python/site-packages (from python-dateutil>=2.8.2->pandas) (1.17.0)\n",
      "Requirement already satisfied: charset-normalizer<4,>=2 in /Library/Frameworks/Python.framework/Versions/3.12/lib/python3.12/site-packages (from requests<3,>=2.27->streamlit) (3.4.1)\n",
      "Requirement already satisfied: idna<4,>=2.5 in /Library/Frameworks/Python.framework/Versions/3.12/lib/python3.12/site-packages (from requests<3,>=2.27->streamlit) (3.10)\n",
      "Requirement already satisfied: urllib3<3,>=1.21.1 in /Library/Frameworks/Python.framework/Versions/3.12/lib/python3.12/site-packages (from requests<3,>=2.27->streamlit) (2.3.0)\n",
      "Requirement already satisfied: certifi>=2017.4.17 in /Library/Frameworks/Python.framework/Versions/3.12/lib/python3.12/site-packages (from requests<3,>=2.27->streamlit) (2025.1.31)\n",
      "Requirement already satisfied: smmap<6,>=3.0.1 in /Library/Frameworks/Python.framework/Versions/3.12/lib/python3.12/site-packages (from gitdb<5,>=4.0.1->gitpython!=3.1.19,<4,>=3.0.7->streamlit) (5.0.2)\n",
      "Requirement already satisfied: MarkupSafe>=2.0 in /Library/Frameworks/Python.framework/Versions/3.12/lib/python3.12/site-packages (from jinja2->altair<6,>=4.0->streamlit) (3.0.2)\n",
      "Requirement already satisfied: attrs>=22.2.0 in /Library/Frameworks/Python.framework/Versions/3.12/lib/python3.12/site-packages (from jsonschema>=3.0->altair<6,>=4.0->streamlit) (25.3.0)\n",
      "Requirement already satisfied: jsonschema-specifications>=2023.03.6 in /Library/Frameworks/Python.framework/Versions/3.12/lib/python3.12/site-packages (from jsonschema>=3.0->altair<6,>=4.0->streamlit) (2024.10.1)\n",
      "Requirement already satisfied: referencing>=0.28.4 in /Library/Frameworks/Python.framework/Versions/3.12/lib/python3.12/site-packages (from jsonschema>=3.0->altair<6,>=4.0->streamlit) (0.36.2)\n",
      "Requirement already satisfied: rpds-py>=0.7.1 in /Library/Frameworks/Python.framework/Versions/3.12/lib/python3.12/site-packages (from jsonschema>=3.0->altair<6,>=4.0->streamlit) (0.24.0)\n",
      "\n",
      "\u001b[1m[\u001b[0m\u001b[34;49mnotice\u001b[0m\u001b[1;39;49m]\u001b[0m\u001b[39;49m A new release of pip is available: \u001b[0m\u001b[31;49m24.3.1\u001b[0m\u001b[39;49m -> \u001b[0m\u001b[32;49m25.1.1\u001b[0m\n",
      "\u001b[1m[\u001b[0m\u001b[34;49mnotice\u001b[0m\u001b[1;39;49m]\u001b[0m\u001b[39;49m To update, run: \u001b[0m\u001b[32;49mpip3 install --upgrade pip\u001b[0m\n",
      "Note: you may need to restart the kernel to use updated packages.\n"
     ]
    }
   ],
   "source": [
    "pip install pandas numpy matplotlib seaborn plotly scikit-learn xgboost streamlit\n"
   ]
  },
  {
   "cell_type": "code",
   "execution_count": 2,
   "metadata": {},
   "outputs": [
    {
     "name": "stderr",
     "output_type": "stream",
     "text": [
      "/var/folders/6t/x4gsnlwd0rn1v_gv5fswcgjw0000gn/T/ipykernel_60783/1709582219.py:7: DtypeWarning: Columns (7,8,16,17,19,21,23,25,27,29) have mixed types. Specify dtype option on import or set low_memory=False.\n",
      "  messages = pd.read_csv('/Users/ayushshinde/Desktop/archive/messages-demo.csv')\n"
     ]
    },
    {
     "name": "stdout",
     "output_type": "stream",
     "text": [
      "   id campaign_type      channel     topic                  started_at  \\\n",
      "0  63          bulk  mobile_push  sale out  2021-04-30 07:22:36.615023   \n",
      "1  64          bulk  mobile_push  sale out  2021-04-30 09:02:50.817227   \n",
      "2  78          bulk  mobile_push  sale out  2021-05-06 07:14:10.533318   \n",
      "3  79          bulk  mobile_push  sale out  2021-05-06 09:03:56.486750   \n",
      "4  89          bulk  mobile_push       NaN  2021-05-07 11:54:06.168664   \n",
      "\n",
      "           finished_at  total_count ab_test warmup_mode  hour_limit  \\\n",
      "0  2021-04-30 07:23:41      48211.0     NaN       False         NaN   \n",
      "1  2021-04-30 09:04:08    1037337.0     NaN       False         NaN   \n",
      "2  2021-05-06 07:15:17      70080.0     NaN       False         NaN   \n",
      "3  2021-05-06 09:42:15     921838.0     NaN       False         NaN   \n",
      "4  2021-05-07 11:54:38      45503.0     NaN       False         NaN   \n",
      "\n",
      "   subject_length subject_with_personalization subject_with_deadline  \\\n",
      "0           146.0                        False                 False   \n",
      "1            97.0                        False                 False   \n",
      "2           146.0                        False                 False   \n",
      "3            97.0                        False                 False   \n",
      "4           109.0                        False                  True   \n",
      "\n",
      "  subject_with_emoji subject_with_bonuses subject_with_discount  \\\n",
      "0               True                False                 False   \n",
      "1               True                False                 False   \n",
      "2               True                False                 False   \n",
      "3               True                False                 False   \n",
      "4               True                False                 False   \n",
      "\n",
      "  subject_with_saleout is_test  position  \n",
      "0                False     NaN       NaN  \n",
      "1                False     NaN       NaN  \n",
      "2                False     NaN       NaN  \n",
      "3                False     NaN       NaN  \n",
      "4                False     NaN       NaN  \n",
      "             client_id first_purchase_date\n",
      "0  1515915625761548908          2022-03-04\n",
      "1  1515915625638660959          2022-04-06\n",
      "2  1515915625490249330          2022-03-03\n",
      "3  1515915625728802311          2021-12-20\n",
      "4  1515915625915446913          2023-01-16\n",
      "         date                      holiday\n",
      "0  2021-01-01                     New Year\n",
      "1  2021-01-07           Orthodox Christmas\n",
      "2  2021-01-13                 Old New Year\n",
      "3  2021-01-19  Baptizing - Sacred Epiphany\n",
      "4  2021-01-25                 Students day\n",
      "        id                            message_id  campaign_id   message_type  \\\n",
      "0  3527358  3f6aaad3-bab7-4886-b083-fe8c1f210066           31  transactional   \n",
      "1  3527619  0e670ecc-4549-44f6-86ed-469682d34837           32  transactional   \n",
      "2  3527980  276b25cf-1bda-4faf-b3a4-98e4161f9357           32  transactional   \n",
      "3  3528369  4545aff2-09b3-45e3-9abd-c680357e5429           32  transactional   \n",
      "4  3528648  5850858d-2dcf-4f31-a0d3-5db5649b17c4           32  transactional   \n",
      "\n",
      "             client_id channel  category platform email_provider   stream  \\\n",
      "0  1515915625489833514   email       NaN      NaN        mail.ru  desktop   \n",
      "1  1515915625489220445   email       NaN      NaN      yandex.ru  desktop   \n",
      "2  1515915625489854185   email       NaN      NaN        mail.ru  desktop   \n",
      "3  1515915625489101550   email       NaN      NaN        mail.ru  desktop   \n",
      "4  1515915625490455948   email       NaN      NaN        mail.ru  desktop   \n",
      "\n",
      "   ... is_soft_bounced soft_bounced_at is_complained complained_at is_blocked  \\\n",
      "0  ...               f             NaN             f           NaN          f   \n",
      "1  ...               f             NaN             f           NaN          f   \n",
      "2  ...               f             NaN             f           NaN          f   \n",
      "3  ...               f             NaN             f           NaN          f   \n",
      "4  ...               f             NaN             f           NaN          f   \n",
      "\n",
      "  blocked_at is_purchased         purchased_at                  created_at  \\\n",
      "0        NaN            t  2021-05-06 16:40:38  2023-04-27 08:55:05.883908   \n",
      "1        NaN            f                  NaN  2023-04-27 08:55:06.265821   \n",
      "2        NaN            f                  NaN  2023-04-27 08:55:06.777039   \n",
      "3        NaN            f                  NaN  2023-04-27 08:55:07.325906   \n",
      "4        NaN            f                  NaN  2023-04-27 08:55:07.727792   \n",
      "\n",
      "                   updated_at  \n",
      "0  2023-04-27 08:57:33.080129  \n",
      "1   2023-04-27 08:56:18.60223  \n",
      "2  2023-04-27 08:56:19.112546  \n",
      "3  2023-04-27 08:56:19.590637  \n",
      "4  2023-04-27 08:56:19.926474  \n",
      "\n",
      "[5 rows x 32 columns]\n",
      "(1907, 19)\n",
      "(1854736, 2)\n",
      "(48, 2)\n",
      "(10000000, 32)\n",
      "Index(['id', 'campaign_type', 'channel', 'topic', 'started_at', 'finished_at',\n",
      "       'total_count', 'ab_test', 'warmup_mode', 'hour_limit', 'subject_length',\n",
      "       'subject_with_personalization', 'subject_with_deadline',\n",
      "       'subject_with_emoji', 'subject_with_bonuses', 'subject_with_discount',\n",
      "       'subject_with_saleout', 'is_test', 'position'],\n",
      "      dtype='object')\n",
      "Index(['client_id', 'first_purchase_date'], dtype='object')\n",
      "Index(['date', 'holiday'], dtype='object')\n",
      "Index(['id', 'message_id', 'campaign_id', 'message_type', 'client_id',\n",
      "       'channel', 'category', 'platform', 'email_provider', 'stream', 'date',\n",
      "       'sent_at', 'is_opened', 'opened_first_time_at', 'opened_last_time_at',\n",
      "       'is_clicked', 'clicked_first_time_at', 'clicked_last_time_at',\n",
      "       'is_unsubscribed', 'unsubscribed_at', 'is_hard_bounced',\n",
      "       'hard_bounced_at', 'is_soft_bounced', 'soft_bounced_at',\n",
      "       'is_complained', 'complained_at', 'is_blocked', 'blocked_at',\n",
      "       'is_purchased', 'purchased_at', 'created_at', 'updated_at'],\n",
      "      dtype='object')\n"
     ]
    }
   ],
   "source": [
    "import pandas as pd\n",
    "\n",
    "# Load files\n",
    "campaign = pd.read_csv('/Users/ayushshinde/Desktop/archive/campaigns.csv')\n",
    "clients = pd.read_csv('/Users/ayushshinde/Desktop/archive/client_first_purchase_date.csv')\n",
    "holiday = pd.read_csv('/Users/ayushshinde/Desktop/archive/holidays.csv')\n",
    "messages = pd.read_csv('/Users/ayushshinde/Desktop/archive/messages-demo.csv')\n",
    "\n",
    "# Quick overview of each\n",
    "print(campaign.head())\n",
    "print(clients.head())\n",
    "print(holiday.head())\n",
    "print(messages.head())\n",
    "\n",
    "print(campaign.shape)\n",
    "print(clients.shape)\n",
    "print(holiday.shape)\n",
    "print(messages.shape)\n",
    "\n",
    "\n",
    "print(campaign.columns)\n",
    "print(clients.columns)\n",
    "print(holiday.columns)\n",
    "print(messages.columns)\n",
    "\n"
   ]
  },
  {
   "cell_type": "code",
   "execution_count": 3,
   "metadata": {},
   "outputs": [
    {
     "data": {
      "text/html": [
       "<div>\n",
       "<style scoped>\n",
       "    .dataframe tbody tr th:only-of-type {\n",
       "        vertical-align: middle;\n",
       "    }\n",
       "\n",
       "    .dataframe tbody tr th {\n",
       "        vertical-align: top;\n",
       "    }\n",
       "\n",
       "    .dataframe thead th {\n",
       "        text-align: right;\n",
       "    }\n",
       "</style>\n",
       "<table border=\"1\" class=\"dataframe\">\n",
       "  <thead>\n",
       "    <tr style=\"text-align: right;\">\n",
       "      <th></th>\n",
       "      <th>id_x</th>\n",
       "      <th>message_id</th>\n",
       "      <th>campaign_id</th>\n",
       "      <th>message_type</th>\n",
       "      <th>client_id</th>\n",
       "      <th>channel_x</th>\n",
       "      <th>category</th>\n",
       "      <th>platform</th>\n",
       "      <th>email_provider</th>\n",
       "      <th>stream</th>\n",
       "      <th>...</th>\n",
       "      <th>subject_length</th>\n",
       "      <th>subject_with_personalization</th>\n",
       "      <th>subject_with_deadline</th>\n",
       "      <th>subject_with_emoji</th>\n",
       "      <th>subject_with_bonuses</th>\n",
       "      <th>subject_with_discount</th>\n",
       "      <th>subject_with_saleout</th>\n",
       "      <th>is_test</th>\n",
       "      <th>position</th>\n",
       "      <th>first_purchase_date</th>\n",
       "    </tr>\n",
       "  </thead>\n",
       "  <tbody>\n",
       "    <tr>\n",
       "      <th>0</th>\n",
       "      <td>3527358</td>\n",
       "      <td>3f6aaad3-bab7-4886-b083-fe8c1f210066</td>\n",
       "      <td>31</td>\n",
       "      <td>transactional</td>\n",
       "      <td>1515915625489833514</td>\n",
       "      <td>email</td>\n",
       "      <td>NaN</td>\n",
       "      <td>NaN</td>\n",
       "      <td>mail.ru</td>\n",
       "      <td>desktop</td>\n",
       "      <td>...</td>\n",
       "      <td>99.0</td>\n",
       "      <td>False</td>\n",
       "      <td>False</td>\n",
       "      <td>False</td>\n",
       "      <td>False</td>\n",
       "      <td>False</td>\n",
       "      <td>False</td>\n",
       "      <td>NaN</td>\n",
       "      <td>NaN</td>\n",
       "      <td>2022-07-31</td>\n",
       "    </tr>\n",
       "    <tr>\n",
       "      <th>1</th>\n",
       "      <td>3527619</td>\n",
       "      <td>0e670ecc-4549-44f6-86ed-469682d34837</td>\n",
       "      <td>32</td>\n",
       "      <td>transactional</td>\n",
       "      <td>1515915625489220445</td>\n",
       "      <td>email</td>\n",
       "      <td>NaN</td>\n",
       "      <td>NaN</td>\n",
       "      <td>yandex.ru</td>\n",
       "      <td>desktop</td>\n",
       "      <td>...</td>\n",
       "      <td>88.0</td>\n",
       "      <td>False</td>\n",
       "      <td>False</td>\n",
       "      <td>False</td>\n",
       "      <td>False</td>\n",
       "      <td>False</td>\n",
       "      <td>False</td>\n",
       "      <td>NaN</td>\n",
       "      <td>NaN</td>\n",
       "      <td>2022-05-24</td>\n",
       "    </tr>\n",
       "    <tr>\n",
       "      <th>2</th>\n",
       "      <td>3527980</td>\n",
       "      <td>276b25cf-1bda-4faf-b3a4-98e4161f9357</td>\n",
       "      <td>32</td>\n",
       "      <td>transactional</td>\n",
       "      <td>1515915625489854185</td>\n",
       "      <td>email</td>\n",
       "      <td>NaN</td>\n",
       "      <td>NaN</td>\n",
       "      <td>mail.ru</td>\n",
       "      <td>desktop</td>\n",
       "      <td>...</td>\n",
       "      <td>88.0</td>\n",
       "      <td>False</td>\n",
       "      <td>False</td>\n",
       "      <td>False</td>\n",
       "      <td>False</td>\n",
       "      <td>False</td>\n",
       "      <td>False</td>\n",
       "      <td>NaN</td>\n",
       "      <td>NaN</td>\n",
       "      <td>NaN</td>\n",
       "    </tr>\n",
       "    <tr>\n",
       "      <th>3</th>\n",
       "      <td>3528369</td>\n",
       "      <td>4545aff2-09b3-45e3-9abd-c680357e5429</td>\n",
       "      <td>32</td>\n",
       "      <td>transactional</td>\n",
       "      <td>1515915625489101550</td>\n",
       "      <td>email</td>\n",
       "      <td>NaN</td>\n",
       "      <td>NaN</td>\n",
       "      <td>mail.ru</td>\n",
       "      <td>desktop</td>\n",
       "      <td>...</td>\n",
       "      <td>88.0</td>\n",
       "      <td>False</td>\n",
       "      <td>False</td>\n",
       "      <td>False</td>\n",
       "      <td>False</td>\n",
       "      <td>False</td>\n",
       "      <td>False</td>\n",
       "      <td>NaN</td>\n",
       "      <td>NaN</td>\n",
       "      <td>NaN</td>\n",
       "    </tr>\n",
       "    <tr>\n",
       "      <th>4</th>\n",
       "      <td>3528648</td>\n",
       "      <td>5850858d-2dcf-4f31-a0d3-5db5649b17c4</td>\n",
       "      <td>32</td>\n",
       "      <td>transactional</td>\n",
       "      <td>1515915625490455948</td>\n",
       "      <td>email</td>\n",
       "      <td>NaN</td>\n",
       "      <td>NaN</td>\n",
       "      <td>mail.ru</td>\n",
       "      <td>desktop</td>\n",
       "      <td>...</td>\n",
       "      <td>88.0</td>\n",
       "      <td>False</td>\n",
       "      <td>False</td>\n",
       "      <td>False</td>\n",
       "      <td>False</td>\n",
       "      <td>False</td>\n",
       "      <td>False</td>\n",
       "      <td>NaN</td>\n",
       "      <td>NaN</td>\n",
       "      <td>2022-01-07</td>\n",
       "    </tr>\n",
       "  </tbody>\n",
       "</table>\n",
       "<p>5 rows × 52 columns</p>\n",
       "</div>"
      ],
      "text/plain": [
       "      id_x                            message_id  campaign_id   message_type  \\\n",
       "0  3527358  3f6aaad3-bab7-4886-b083-fe8c1f210066           31  transactional   \n",
       "1  3527619  0e670ecc-4549-44f6-86ed-469682d34837           32  transactional   \n",
       "2  3527980  276b25cf-1bda-4faf-b3a4-98e4161f9357           32  transactional   \n",
       "3  3528369  4545aff2-09b3-45e3-9abd-c680357e5429           32  transactional   \n",
       "4  3528648  5850858d-2dcf-4f31-a0d3-5db5649b17c4           32  transactional   \n",
       "\n",
       "             client_id channel_x  category platform email_provider   stream  \\\n",
       "0  1515915625489833514     email       NaN      NaN        mail.ru  desktop   \n",
       "1  1515915625489220445     email       NaN      NaN      yandex.ru  desktop   \n",
       "2  1515915625489854185     email       NaN      NaN        mail.ru  desktop   \n",
       "3  1515915625489101550     email       NaN      NaN        mail.ru  desktop   \n",
       "4  1515915625490455948     email       NaN      NaN        mail.ru  desktop   \n",
       "\n",
       "   ... subject_length subject_with_personalization subject_with_deadline  \\\n",
       "0  ...           99.0                        False                 False   \n",
       "1  ...           88.0                        False                 False   \n",
       "2  ...           88.0                        False                 False   \n",
       "3  ...           88.0                        False                 False   \n",
       "4  ...           88.0                        False                 False   \n",
       "\n",
       "  subject_with_emoji subject_with_bonuses subject_with_discount  \\\n",
       "0              False                False                 False   \n",
       "1              False                False                 False   \n",
       "2              False                False                 False   \n",
       "3              False                False                 False   \n",
       "4              False                False                 False   \n",
       "\n",
       "  subject_with_saleout is_test position first_purchase_date  \n",
       "0                False     NaN      NaN          2022-07-31  \n",
       "1                False     NaN      NaN          2022-05-24  \n",
       "2                False     NaN      NaN                 NaN  \n",
       "3                False     NaN      NaN                 NaN  \n",
       "4                False     NaN      NaN          2022-01-07  \n",
       "\n",
       "[5 rows x 52 columns]"
      ]
     },
     "execution_count": 3,
     "metadata": {},
     "output_type": "execute_result"
    }
   ],
   "source": [
    "# Merge messages with campaigns\n",
    "merged = messages.merge(campaign, left_on='campaign_id', right_on='id', how='left')\n",
    "\n",
    "# Merge with client first purchase dates\n",
    "merged = merged.merge(clients, on='client_id', how='left')\n",
    "\n",
    "merged.head()\n"
   ]
  },
  {
   "cell_type": "code",
   "execution_count": 4,
   "metadata": {},
   "outputs": [
    {
     "data": {
      "text/plain": [
       "id_x                                   0\n",
       "message_id                             0\n",
       "campaign_id                            0\n",
       "message_type                           0\n",
       "client_id                              0\n",
       "channel_x                              0\n",
       "category                        11245949\n",
       "platform                        10485638\n",
       "email_provider                   5308757\n",
       "stream                                 0\n",
       "date                                   0\n",
       "sent_at                                0\n",
       "is_opened                              0\n",
       "opened_first_time_at             9469089\n",
       "opened_last_time_at              9469089\n",
       "is_clicked                             0\n",
       "clicked_first_time_at           11008369\n",
       "clicked_last_time_at            11008369\n",
       "is_unsubscribed                        0\n",
       "unsubscribed_at                 10771617\n",
       "is_hard_bounced                        0\n",
       "hard_bounced_at                 11214817\n",
       "is_soft_bounced                        0\n",
       "soft_bounced_at                 11241299\n",
       "is_complained                          0\n",
       "complained_at                   11240953\n",
       "is_blocked                             0\n",
       "blocked_at                      11245728\n",
       "is_purchased                           0\n",
       "purchased_at                    11233571\n",
       "created_at                             0\n",
       "updated_at                             0\n",
       "id_y                                   0\n",
       "campaign_type                          0\n",
       "channel_y                              0\n",
       "topic                              71921\n",
       "started_at                       4183545\n",
       "finished_at                      4183545\n",
       "total_count                      4183545\n",
       "ab_test                         11245949\n",
       "warmup_mode                      4183545\n",
       "hour_limit                      11245949\n",
       "subject_length                   2138534\n",
       "subject_with_personalization     2138534\n",
       "subject_with_deadline            2138534\n",
       "subject_with_emoji               2138534\n",
       "subject_with_bonuses             2138534\n",
       "subject_with_discount            2138534\n",
       "subject_with_saleout             2138534\n",
       "is_test                          9107415\n",
       "position                         9107415\n",
       "first_purchase_date              8500784\n",
       "dtype: int64"
      ]
     },
     "execution_count": 4,
     "metadata": {},
     "output_type": "execute_result"
    }
   ],
   "source": [
    "merged.isnull().sum()\n"
   ]
  },
  {
   "cell_type": "code",
   "execution_count": 5,
   "metadata": {},
   "outputs": [
    {
     "data": {
      "text/plain": [
       "is_clicked\n",
       "f    0.978874\n",
       "t    0.021126\n",
       "Name: proportion, dtype: float64"
      ]
     },
     "execution_count": 5,
     "metadata": {},
     "output_type": "execute_result"
    }
   ],
   "source": [
    "# Overall purchase rate\n",
    "merged['is_purchased'].value_counts(normalize=True)\n",
    "\n",
    "# Open rate\n",
    "merged['is_opened'].value_counts(normalize=True)\n",
    "\n",
    "# Click rate\n",
    "merged['is_clicked'].value_counts(normalize=True)\n"
   ]
  },
  {
   "cell_type": "code",
   "execution_count": 6,
   "metadata": {},
   "outputs": [],
   "source": [
    "# Convert 't'/'f' to True/False for clean analysis\n",
    "merged['is_opened'] = merged['is_opened'] == 't'\n",
    "merged['is_clicked'] = merged['is_clicked'] == 't'\n",
    "merged['is_purchased'] = merged['is_purchased'] == 't'\n"
   ]
  },
  {
   "cell_type": "code",
   "execution_count": 7,
   "metadata": {},
   "outputs": [
    {
     "name": "stdout",
     "output_type": "stream",
     "text": [
      "Total messages sent: 11245949\n",
      "Opened messages: 1776860 (15.80%)\n",
      "Clicked messages: 237580 (2.11%)\n",
      "Purchased messages: 12378 (0.11%)\n"
     ]
    }
   ],
   "source": [
    "total_messages = len(merged)\n",
    "opened_messages = merged['is_opened'].sum()\n",
    "clicked_messages = merged['is_clicked'].sum()\n",
    "purchased_messages = merged['is_purchased'].sum()\n",
    "\n",
    "print(f\"Total messages sent: {total_messages}\")\n",
    "print(f\"Opened messages: {opened_messages} ({(opened_messages/total_messages)*100:.2f}%)\")\n",
    "print(f\"Clicked messages: {clicked_messages} ({(clicked_messages/total_messages)*100:.2f}%)\")\n",
    "print(f\"Purchased messages: {purchased_messages} ({(purchased_messages/total_messages)*100:.2f}%)\")\n"
   ]
  },
  {
   "cell_type": "code",
   "execution_count": 8,
   "metadata": {},
   "outputs": [
    {
     "data": {
      "image/png": "[encoded data removed]",
      "text/plain": [
       "<Figure size 800x500 with 1 Axes>"
      ]
     },
     "metadata": {},
     "output_type": "display_data"
    }
   ],
   "source": [
    "import matplotlib.pyplot as plt\n",
    "\n",
    "stages = ['Sent', 'Opened', 'Clicked', 'Purchased']\n",
    "counts = [total_messages, opened_messages, clicked_messages, purchased_messages]\n",
    "\n",
    "plt.figure(figsize=(8,5))\n",
    "plt.bar(stages, counts, color=['skyblue', 'orange', 'green', 'purple'])\n",
    "plt.title(\"Funnel Conversion Breakdown\")\n",
    "plt.ylabel(\"Number of Messages\")\n",
    "plt.show()\n"
   ]
  },
  {
   "cell_type": "code",
   "execution_count": 9,
   "metadata": {},
   "outputs": [
    {
     "name": "stdout",
     "output_type": "stream",
     "text": [
      "campaign_type\n",
      "transactional    0.002548\n",
      "trigger          0.002184\n",
      "bulk             0.000353\n",
      "Name: is_purchased, dtype: float64\n"
     ]
    }
   ],
   "source": [
    "campaign_type_performance = merged.groupby('campaign_type')['is_purchased'].mean().sort_values(ascending=False)\n",
    "print(campaign_type_performance)\n"
   ]
  },
  {
   "cell_type": "code",
   "execution_count": 10,
   "metadata": {},
   "outputs": [
    {
     "name": "stdout",
     "output_type": "stream",
     "text": [
      "channel_x\n",
      "email          0.002085\n",
      "mobile_push    0.000000\n",
      "web_push       0.000000\n",
      "Name: is_purchased, dtype: float64\n"
     ]
    }
   ],
   "source": [
    "channel_performance = merged.groupby('channel_x')['is_purchased'].mean().sort_values(ascending=False)\n",
    "print(channel_performance)\n"
   ]
  },
  {
   "cell_type": "code",
   "execution_count": 11,
   "metadata": {},
   "outputs": [
    {
     "name": "stderr",
     "output_type": "stream",
     "text": [
      "/var/folders/6t/x4gsnlwd0rn1v_gv5fswcgjw0000gn/T/ipykernel_60783/2087009667.py:4: FutureWarning: \n",
      "\n",
      "Passing `palette` without assigning `hue` is deprecated and will be removed in v0.14.0. Assign the `x` variable to `hue` and set `legend=False` for the same effect.\n",
      "\n",
      "  sns.barplot(x=campaign_type_performance.index, y=campaign_type_performance.values, palette='viridis')\n"
     ]
    },
    {
     "data": {
      "image/png": "[encoded data removed]",
      "text/plain": [
       "<Figure size 700x400 with 1 Axes>"
      ]
     },
     "metadata": {},
     "output_type": "display_data"
    },
    {
     "name": "stderr",
     "output_type": "stream",
     "text": [
      "/var/folders/6t/x4gsnlwd0rn1v_gv5fswcgjw0000gn/T/ipykernel_60783/2087009667.py:11: FutureWarning: \n",
      "\n",
      "Passing `palette` without assigning `hue` is deprecated and will be removed in v0.14.0. Assign the `x` variable to `hue` and set `legend=False` for the same effect.\n",
      "\n",
      "  sns.barplot(x=channel_performance.index, y=channel_performance.values, palette='mako')\n"
     ]
    },
    {
     "data": {
      "image/png": "[encoded data removed]",
      "text/plain": [
       "<Figure size 700x400 with 1 Axes>"
      ]
     },
     "metadata": {},
     "output_type": "display_data"
    }
   ],
   "source": [
    "import seaborn as sns\n",
    "\n",
    "plt.figure(figsize=(7,4))\n",
    "sns.barplot(x=campaign_type_performance.index, y=campaign_type_performance.values, palette='viridis')\n",
    "plt.title(\"Purchase Rate by Campaign Type\")\n",
    "plt.ylabel(\"Purchase Rate\")\n",
    "plt.xlabel(\"Campaign Type\")\n",
    "plt.show()\n",
    "\n",
    "plt.figure(figsize=(7,4))\n",
    "sns.barplot(x=channel_performance.index, y=channel_performance.values, palette='mako')\n",
    "plt.title(\"Purchase Rate by Channel\")\n",
    "plt.ylabel(\"Purchase Rate\")\n",
    "plt.xlabel(\"Channel\")\n",
    "plt.show()\n"
   ]
  },
  {
   "cell_type": "code",
   "execution_count": 12,
   "metadata": {},
   "outputs": [],
   "source": [
    "# Convert to datetime\n",
    "merged['date'] = pd.to_datetime(merged['date'])\n",
    "holiday['date'] = pd.to_datetime(holiday['date'])\n",
    "\n",
    "# Create flag\n",
    "merged['is_holiday'] = merged['date'].isin(holiday['date'])\n"
   ]
  },
  {
   "cell_type": "code",
   "execution_count": 13,
   "metadata": {},
   "outputs": [
    {
     "name": "stdout",
     "output_type": "stream",
     "text": [
      "is_holiday\n",
      "False    0.001066\n",
      "True     0.003566\n",
      "Name: is_purchased, dtype: float64\n"
     ]
    }
   ],
   "source": [
    "holiday_performance = merged.groupby('is_holiday')['is_purchased'].mean()\n",
    "print(holiday_performance)\n"
   ]
  },
  {
   "cell_type": "code",
   "execution_count": 14,
   "metadata": {},
   "outputs": [
    {
     "name": "stderr",
     "output_type": "stream",
     "text": [
      "/var/folders/6t/x4gsnlwd0rn1v_gv5fswcgjw0000gn/T/ipykernel_60783/775982931.py:2: FutureWarning: \n",
      "\n",
      "Passing `palette` without assigning `hue` is deprecated and will be removed in v0.14.0. Assign the `x` variable to `hue` and set `legend=False` for the same effect.\n",
      "\n",
      "  sns.barplot(x=holiday_performance.index.map({False: 'Non-Holiday', True: 'Holiday'}),\n"
     ]
    },
    {
     "data": {
      "image/png": "[encoded data removed]",
      "text/plain": [
       "<Figure size 500x400 with 1 Axes>"
      ]
     },
     "metadata": {},
     "output_type": "display_data"
    }
   ],
   "source": [
    "plt.figure(figsize=(5,4))\n",
    "sns.barplot(x=holiday_performance.index.map({False: 'Non-Holiday', True: 'Holiday'}),\n",
    "            y=holiday_performance.values, palette='pastel')\n",
    "plt.title(\"Purchase Rate: Holiday vs Non-Holiday\")\n",
    "plt.ylabel(\"Purchase Rate\")\n",
    "plt.show()\n"
   ]
  },
  {
   "cell_type": "code",
   "execution_count": 15,
   "metadata": {},
   "outputs": [],
   "source": [
    "merged['first_purchase_date'] = pd.to_datetime(merged['first_purchase_date'])\n"
   ]
  },
  {
   "cell_type": "code",
   "execution_count": 16,
   "metadata": {},
   "outputs": [],
   "source": [
    "# Existing client if first purchase was before message date\n",
    "merged['is_existing_client'] = merged['first_purchase_date'] < merged['date']\n"
   ]
  },
  {
   "cell_type": "code",
   "execution_count": 17,
   "metadata": {},
   "outputs": [
    {
     "name": "stdout",
     "output_type": "stream",
     "text": [
      "is_existing_client\n",
      "False    0.001101\n",
      "Name: is_purchased, dtype: float64\n"
     ]
    }
   ],
   "source": [
    "client_perf = merged.groupby('is_existing_client')['is_purchased'].mean()\n",
    "print(client_perf)\n"
   ]
  },
  {
   "cell_type": "code",
   "execution_count": 18,
   "metadata": {},
   "outputs": [
    {
     "name": "stderr",
     "output_type": "stream",
     "text": [
      "/var/folders/6t/x4gsnlwd0rn1v_gv5fswcgjw0000gn/T/ipykernel_60783/2531828650.py:5: FutureWarning: \n",
      "\n",
      "Passing `palette` without assigning `hue` is deprecated and will be removed in v0.14.0. Assign the `x` variable to `hue` and set `legend=False` for the same effect.\n",
      "\n",
      "  sns.barplot(x=client_perf.index.map({True: 'Existing Client', False: 'New Client'}),\n"
     ]
    },
    {
     "data": {
      "image/png": "[encoded data removed]",
      "text/plain": [
       "<Figure size 500x400 with 1 Axes>"
      ]
     },
     "metadata": {},
     "output_type": "display_data"
    }
   ],
   "source": [
    "import seaborn as sns\n",
    "import matplotlib.pyplot as plt\n",
    "\n",
    "plt.figure(figsize=(5,4))\n",
    "sns.barplot(x=client_perf.index.map({True: 'Existing Client', False: 'New Client'}),\n",
    "            y=client_perf.values, palette='Set2')\n",
    "plt.title(\"Purchase Rate: Existing vs New Clients\")\n",
    "plt.ylabel(\"Purchase Rate\")\n",
    "plt.show()\n"
   ]
  },
  {
   "cell_type": "code",
   "execution_count": 19,
   "metadata": {},
   "outputs": [
    {
     "name": "stdout",
     "output_type": "stream",
     "text": [
      "is_existing_client\n",
      "False    0.158\n",
      "Name: is_opened, dtype: float64\n",
      "is_existing_client\n",
      "False    0.021126\n",
      "Name: is_clicked, dtype: float64\n"
     ]
    }
   ],
   "source": [
    "print(merged.groupby('is_existing_client')['is_opened'].mean())\n",
    "print(merged.groupby('is_existing_client')['is_clicked'].mean())\n"
   ]
  },
  {
   "cell_type": "code",
   "execution_count": 20,
   "metadata": {},
   "outputs": [
    {
     "name": "stdout",
     "output_type": "stream",
     "text": [
      "Open Rate: 15.80%\n",
      "Click-Through Rate (CTR): 13.37%\n",
      "Purchase Conversion from Clicks: 5.21%\n"
     ]
    }
   ],
   "source": [
    "total_sent = len(merged)\n",
    "total_opened = merged['is_opened'].sum()\n",
    "total_clicked = merged['is_clicked'].sum()\n",
    "total_purchased = merged['is_purchased'].sum()\n",
    "\n",
    "open_rate = total_opened / total_sent\n",
    "click_rate = total_clicked / total_opened\n",
    "purchase_rate = total_purchased / total_clicked\n",
    "\n",
    "print(f\"Open Rate: {open_rate:.2%}\")\n",
    "print(f\"Click-Through Rate (CTR): {click_rate:.2%}\")\n",
    "print(f\"Purchase Conversion from Clicks: {purchase_rate:.2%}\")\n"
   ]
  },
  {
   "cell_type": "code",
   "execution_count": 21,
   "metadata": {},
   "outputs": [
    {
     "data": {
      "text/plain": [
       "segment\n",
       "2    2029506\n",
       "0    1285748\n",
       "1      37168\n",
       "Name: count, dtype: int64"
      ]
     },
     "execution_count": 21,
     "metadata": {},
     "output_type": "execute_result"
    }
   ],
   "source": [
    "from sklearn.cluster import KMeans\n",
    "import numpy as np\n",
    "\n",
    "# Aggregate by client\n",
    "client_df = merged.groupby('client_id').agg({\n",
    "    'is_opened': 'mean',\n",
    "    'is_clicked': 'mean',\n",
    "    'is_purchased': 'mean',\n",
    "    'message_id': 'count'\n",
    "}).rename(columns={'message_id': 'message_count'})\n",
    "\n",
    "# Prepare for clustering\n",
    "X = client_df[['is_opened', 'is_clicked', 'is_purchased', 'message_count']].fillna(0)\n",
    "\n",
    "# Fit KMeans (choose k=3 or k=4)\n",
    "kmeans = KMeans(n_clusters=3, random_state=42)\n",
    "client_df['segment'] = kmeans.fit_predict(X)\n",
    "\n",
    "client_df['segment'].value_counts()\n"
   ]
  },
  {
   "cell_type": "code",
   "execution_count": 22,
   "metadata": {},
   "outputs": [
    {
     "name": "stderr",
     "output_type": "stream",
     "text": [
      "/Library/Frameworks/Python.framework/Versions/3.12/lib/python3.12/site-packages/sklearn/metrics/_classification.py:1565: UndefinedMetricWarning: Precision is ill-defined and being set to 0.0 in labels with no predicted samples. Use `zero_division` parameter to control this behavior.\n",
      "  _warn_prf(average, modifier, f\"{metric.capitalize()} is\", len(result))\n",
      "/Library/Frameworks/Python.framework/Versions/3.12/lib/python3.12/site-packages/sklearn/metrics/_classification.py:1565: UndefinedMetricWarning: Precision is ill-defined and being set to 0.0 in labels with no predicted samples. Use `zero_division` parameter to control this behavior.\n",
      "  _warn_prf(average, modifier, f\"{metric.capitalize()} is\", len(result))\n"
     ]
    },
    {
     "name": "stdout",
     "output_type": "stream",
     "text": [
      "              precision    recall  f1-score   support\n",
      "\n",
      "       False       1.00      1.00      1.00   3370019\n",
      "        True       0.00      0.00      0.00      3766\n",
      "\n",
      "    accuracy                           1.00   3373785\n",
      "   macro avg       0.50      0.50      0.50   3373785\n",
      "weighted avg       1.00      1.00      1.00   3373785\n",
      "\n"
     ]
    },
    {
     "name": "stderr",
     "output_type": "stream",
     "text": [
      "/Library/Frameworks/Python.framework/Versions/3.12/lib/python3.12/site-packages/sklearn/metrics/_classification.py:1565: UndefinedMetricWarning: Precision is ill-defined and being set to 0.0 in labels with no predicted samples. Use `zero_division` parameter to control this behavior.\n",
      "  _warn_prf(average, modifier, f\"{metric.capitalize()} is\", len(result))\n"
     ]
    }
   ],
   "source": [
    "from sklearn.model_selection import train_test_split\n",
    "from sklearn.linear_model import LogisticRegression\n",
    "from sklearn.metrics import classification_report\n",
    "\n",
    "# Example features\n",
    "features = merged[['is_opened', 'is_clicked']]\n",
    "target = merged['is_purchased']\n",
    "\n",
    "X_train, X_test, y_train, y_test = train_test_split(features, target, test_size=0.3, random_state=42)\n",
    "\n",
    "model = LogisticRegression()\n",
    "model.fit(X_train, y_train)\n",
    "y_pred = model.predict(X_test)\n",
    "\n",
    "print(classification_report(y_test, y_pred))\n"
   ]
  },
  {
   "cell_type": "code",
   "execution_count": 23,
   "metadata": {},
   "outputs": [
    {
     "data": {
      "image/png": "[encoded data removed]",
      "text/plain": [
       "<Figure size 1200x500 with 1 Axes>"
      ]
     },
     "metadata": {},
     "output_type": "display_data"
    }
   ],
   "source": [
    "merged['date'] = pd.to_datetime(merged['date'])\n",
    "daily_purchases = merged.groupby(merged['date'].dt.date)['is_purchased'].mean()\n",
    "\n",
    "import matplotlib.pyplot as plt\n",
    "\n",
    "plt.figure(figsize=(12,5))\n",
    "daily_purchases.plot()\n",
    "plt.title(\"Daily Purchase Rate Over Time\")\n",
    "plt.ylabel(\"Purchase Rate\")\n",
    "plt.xlabel(\"Date\")\n",
    "plt.show()\n"
   ]
  },
  {
   "cell_type": "code",
   "execution_count": 24,
   "metadata": {},
   "outputs": [
    {
     "name": "stderr",
     "output_type": "stream",
     "text": [
      "/Library/Frameworks/Python.framework/Versions/3.12/lib/python3.12/site-packages/sklearn/metrics/_classification.py:1565: UndefinedMetricWarning: Precision is ill-defined and being set to 0.0 in labels with no predicted samples. Use `zero_division` parameter to control this behavior.\n",
      "  _warn_prf(average, modifier, f\"{metric.capitalize()} is\", len(result))\n",
      "/Library/Frameworks/Python.framework/Versions/3.12/lib/python3.12/site-packages/sklearn/metrics/_classification.py:1565: UndefinedMetricWarning: Precision is ill-defined and being set to 0.0 in labels with no predicted samples. Use `zero_division` parameter to control this behavior.\n",
      "  _warn_prf(average, modifier, f\"{metric.capitalize()} is\", len(result))\n"
     ]
    },
    {
     "name": "stdout",
     "output_type": "stream",
     "text": [
      "              precision    recall  f1-score   support\n",
      "\n",
      "       False       1.00      1.00      1.00   3370019\n",
      "        True       0.00      0.00      0.00      3766\n",
      "\n",
      "    accuracy                           1.00   3373785\n",
      "   macro avg       0.50      0.50      0.50   3373785\n",
      "weighted avg       1.00      1.00      1.00   3373785\n",
      "\n"
     ]
    },
    {
     "name": "stderr",
     "output_type": "stream",
     "text": [
      "/Library/Frameworks/Python.framework/Versions/3.12/lib/python3.12/site-packages/sklearn/metrics/_classification.py:1565: UndefinedMetricWarning: Precision is ill-defined and being set to 0.0 in labels with no predicted samples. Use `zero_division` parameter to control this behavior.\n",
      "  _warn_prf(average, modifier, f\"{metric.capitalize()} is\", len(result))\n"
     ]
    }
   ],
   "source": [
    "from sklearn.ensemble import RandomForestClassifier\n",
    "\n",
    "features = merged[['is_opened', 'is_clicked', 'is_existing_client', 'is_holiday']].fillna(0)\n",
    "target = merged['is_purchased']\n",
    "\n",
    "X_train, X_test, y_train, y_test = train_test_split(features, target, test_size=0.3, random_state=42)\n",
    "\n",
    "rf = RandomForestClassifier(n_estimators=100)\n",
    "rf.fit(X_train, y_train)\n",
    "print(classification_report(y_test, rf.predict(X_test)))\n"
   ]
  },
  {
   "cell_type": "code",
   "execution_count": 28,
   "metadata": {},
   "outputs": [
    {
     "name": "stderr",
     "output_type": "stream",
     "text": [
      "/var/folders/6t/x4gsnlwd0rn1v_gv5fswcgjw0000gn/T/ipykernel_60783/919771083.py:18: FutureWarning: Downcasting behavior in `replace` is deprecated and will be removed in a future version. To retain the old behavior, explicitly call `result.infer_objects(copy=False)`. To opt-in to the future behavior, set `pd.set_option('future.no_silent_downcasting', True)`\n",
      "  ml_data = ml_data.replace({True: 1, False: 0})\n"
     ]
    },
    {
     "name": "stdout",
     "output_type": "stream",
     "text": [
      "Accuracy: 99.92%\n",
      "Confusion Matrix:\n",
      "[[2729958       0]\n",
      " [   2267       0]]\n",
      "Detailed Report:\n",
      "              precision    recall  f1-score   support\n",
      "\n",
      "           0       1.00      1.00      1.00   2729958\n",
      "           1       0.00      0.00      0.00      2267\n",
      "\n",
      "    accuracy                           1.00   2732225\n",
      "   macro avg       0.50      0.50      0.50   2732225\n",
      "weighted avg       1.00      1.00      1.00   2732225\n",
      "\n"
     ]
    },
    {
     "name": "stderr",
     "output_type": "stream",
     "text": [
      "/Library/Frameworks/Python.framework/Versions/3.12/lib/python3.12/site-packages/sklearn/metrics/_classification.py:1565: UndefinedMetricWarning: Precision is ill-defined and being set to 0.0 in labels with no predicted samples. Use `zero_division` parameter to control this behavior.\n",
      "  _warn_prf(average, modifier, f\"{metric.capitalize()} is\", len(result))\n",
      "/Library/Frameworks/Python.framework/Versions/3.12/lib/python3.12/site-packages/sklearn/metrics/_classification.py:1565: UndefinedMetricWarning: Precision is ill-defined and being set to 0.0 in labels with no predicted samples. Use `zero_division` parameter to control this behavior.\n",
      "  _warn_prf(average, modifier, f\"{metric.capitalize()} is\", len(result))\n",
      "/Library/Frameworks/Python.framework/Versions/3.12/lib/python3.12/site-packages/sklearn/metrics/_classification.py:1565: UndefinedMetricWarning: Precision is ill-defined and being set to 0.0 in labels with no predicted samples. Use `zero_division` parameter to control this behavior.\n",
      "  _warn_prf(average, modifier, f\"{metric.capitalize()} is\", len(result))\n"
     ]
    }
   ],
   "source": [
    "import pandas as pd\n",
    "from sklearn.model_selection import train_test_split\n",
    "from sklearn.linear_model import LogisticRegression\n",
    "from sklearn.metrics import accuracy_score, confusion_matrix, classification_report\n",
    "\n",
    "# Your merged dataframe already exists\n",
    "# Filter only useful columns\n",
    "ml_data = merged[[\n",
    "    'is_opened', \n",
    "    'is_clicked', \n",
    "    'campaign_subject_length', \n",
    "    'campaign_subject_with_emoji',\n",
    "    'is_holiday',\n",
    "    'is_purchased'\n",
    "]].dropna()\n",
    "\n",
    "# Convert True/False to 1/0\n",
    "ml_data = ml_data.replace({True: 1, False: 0})\n",
    "\n",
    "# Features & Target\n",
    "X = ml_data.drop('is_purchased', axis=1)\n",
    "y = ml_data['is_purchased']\n",
    "\n",
    "# Split data for training & testing\n",
    "X_train, X_test, y_train, y_test = train_test_split(X, y, test_size=0.3, random_state=42)\n",
    "\n",
    "# Train model\n",
    "model = LogisticRegression()\n",
    "model.fit(X_train, y_train)\n",
    "\n",
    "# Predict\n",
    "y_pred = model.predict(X_test)\n",
    "\n",
    "# Results\n",
    "print(f\"Accuracy: {accuracy_score(y_test, y_pred)*100:.2f}%\")\n",
    "print(\"Confusion Matrix:\")\n",
    "print(confusion_matrix(y_test, y_pred))\n",
    "print(\"Detailed Report:\")\n",
    "print(classification_report(y_test, y_pred))\n"
   ]
  }
 ],
 "metadata": {
  "kernelspec": {
   "display_name": "Python 3",
   "language": "python",
   "name": "python3"
  },
  "language_info": {
   "codemirror_mode": {
    "name": "ipython",
    "version": 3
   },
   "file_extension": ".py",
   "mimetype": "text/x-python",
   "name": "python",
   "nbconvert_exporter": "python",
   "pygments_lexer": "ipython3",
   "version": "3.12.8"
  }
 },
 "nbformat": 4,
 "nbformat_minor": 2
}
